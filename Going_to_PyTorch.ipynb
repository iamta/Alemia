{
  "nbformat": 4,
  "nbformat_minor": 0,
  "metadata": {
    "colab": {
      "name": "Going to PyTorch.ipynb",
      "provenance": [],
      "collapsed_sections": []
    },
    "kernelspec": {
      "name": "python3",
      "display_name": "Python 3"
    },
    "language_info": {
      "name": "python"
    }
  },
  "cells": [
    {
      "cell_type": "markdown",
      "metadata": {
        "id": "A2gFhtcbAn-0"
      },
      "source": [
        "## Setup"
      ]
    },
    {
      "cell_type": "code",
      "metadata": {
        "colab": {
          "base_uri": "https://localhost:8080/"
        },
        "id": "XpSDD2U931xo",
        "outputId": "1714d219-fa7f-4474-b722-008c9924e861"
      },
      "source": [
        "framework = 'PyTorch' #@param ['Turi', 'PyTorch']\n",
        "\n",
        "if framework == 'Turi':\n",
        "  !wget --no-check-certificate 'https://docs.google.com/uc?export=download&id=1G4jdZzPDev5mgLOTnpBm8DQPO9NsLBYn' -O bd_case.sframe.7z\n",
        "  !7z x bd_case.sframe.7z\n",
        "  !pip install turicreate\n",
        "\n",
        "else:\n",
        "  !wget --no-check-certificate 'https://docs.google.com/uc?export=download&id=1YQbiJAde7IptOIbBvaN1_z4MEVm0V1N3' -O bd_case.csv"
      ],
      "execution_count": 51,
      "outputs": [
        {
          "output_type": "stream",
          "name": "stdout",
          "text": [
            "--2022-01-24 15:17:13--  https://docs.google.com/uc?export=download&id=1YQbiJAde7IptOIbBvaN1_z4MEVm0V1N3\n",
            "Resolving docs.google.com (docs.google.com)... 173.194.194.113, 173.194.194.102, 173.194.194.138, ...\n",
            "Connecting to docs.google.com (docs.google.com)|173.194.194.113|:443... connected.\n",
            "HTTP request sent, awaiting response... 302 Moved Temporarily\n",
            "Location: https://doc-0g-ao-docs.googleusercontent.com/docs/securesc/ha0ro937gcuc7l7deffksulhg5h7mbp1/f04q9368qjlmrua935p54o4ba70shdm7/1643037375000/16075663991289837783/*/1YQbiJAde7IptOIbBvaN1_z4MEVm0V1N3?e=download [following]\n",
            "Warning: wildcards not supported in HTTP.\n",
            "--2022-01-24 15:17:14--  https://doc-0g-ao-docs.googleusercontent.com/docs/securesc/ha0ro937gcuc7l7deffksulhg5h7mbp1/f04q9368qjlmrua935p54o4ba70shdm7/1643037375000/16075663991289837783/*/1YQbiJAde7IptOIbBvaN1_z4MEVm0V1N3?e=download\n",
            "Resolving doc-0g-ao-docs.googleusercontent.com (doc-0g-ao-docs.googleusercontent.com)... 209.85.200.132, 2607:f8b0:4001:c16::84\n",
            "Connecting to doc-0g-ao-docs.googleusercontent.com (doc-0g-ao-docs.googleusercontent.com)|209.85.200.132|:443... connected.\n",
            "HTTP request sent, awaiting response... 200 OK\n",
            "Length: 2598020 (2.5M) [text/csv]\n",
            "Saving to: ‘bd_case.csv’\n",
            "\n",
            "bd_case.csv         100%[===================>]   2.48M  --.-KB/s    in 0.02s   \n",
            "\n",
            "2022-01-24 15:17:15 (149 MB/s) - ‘bd_case.csv’ saved [2598020/2598020]\n",
            "\n"
          ]
        }
      ]
    },
    {
      "cell_type": "code",
      "metadata": {
        "id": "CuPdHGq-_QYq"
      },
      "source": [
        "import torch\n",
        "import torch.nn as nn\n",
        "import torch.nn.functional as F\n",
        "import torch.optim as optim\n",
        "\n",
        "import pandas as pd\n",
        "import numpy as np \n",
        "import matplotlib.pyplot as plt\n",
        "from sklearn.model_selection import train_test_split"
      ],
      "execution_count": 52,
      "outputs": []
    },
    {
      "cell_type": "code",
      "source": [
        "from google.colab import drive\n",
        "drive.mount('/content/drive')"
      ],
      "metadata": {
        "colab": {
          "base_uri": "https://localhost:8080/"
        },
        "id": "rb29D3OGjguZ",
        "outputId": "55ade5ca-a95c-4b72-affc-2c5ae2697e3d"
      },
      "execution_count": 53,
      "outputs": [
        {
          "output_type": "stream",
          "name": "stdout",
          "text": [
            "Drive already mounted at /content/drive; to attempt to forcibly remount, call drive.mount(\"/content/drive\", force_remount=True).\n"
          ]
        }
      ]
    },
    {
      "cell_type": "markdown",
      "metadata": {
        "id": "xQlV_SRyAv_m"
      },
      "source": [
        "## Dataset\n",
        "In această secțiune vom încărca datele din features.csv si grades.csv, dupa care le vom concatena si le vom afisa.\n",
        "\n",
        "Vom utiliza framework-ul **pandas**."
      ]
    },
    {
      "cell_type": "code",
      "metadata": {
        "colab": {
          "base_uri": "https://localhost:8080/",
          "height": 488
        },
        "id": "g5yEGpAgBEQs",
        "outputId": "68365c75-a6ed-455b-bab0-43e6c120b3e8"
      },
      "source": [
        "featuretable = pd.read_csv('drive/MyDrive/features.csv')\n",
        "gradestable = pd.read_csv('drive/MyDrive/grades.csv')\n",
        "\n",
        "dataframe = pd.merge(featuretable, gradestable,on=\"label\") # concatenez tabelele in functie de label\n",
        "dataframe=dataframe[dataframe['grade'].notna()]\n",
        "dataframe.head()\n",
        "\n",
        "dataframe.drop(['Unnamed: 22'],axis=1,inplace=True) #elimin coloana Unnamed: 22\n",
        "\n",
        "dataframe # vizualizez tabelele concatenate"
      ],
      "execution_count": 198,
      "outputs": [
        {
          "output_type": "execute_result",
          "data": {
            "text/html": [
              "\n",
              "  <div id=\"df-075a0d77-52c2-4b81-b85d-425b27398695\">\n",
              "    <div class=\"colab-df-container\">\n",
              "      <div>\n",
              "<style scoped>\n",
              "    .dataframe tbody tr th:only-of-type {\n",
              "        vertical-align: middle;\n",
              "    }\n",
              "\n",
              "    .dataframe tbody tr th {\n",
              "        vertical-align: top;\n",
              "    }\n",
              "\n",
              "    .dataframe thead th {\n",
              "        text-align: right;\n",
              "    }\n",
              "</style>\n",
              "<table border=\"1\" class=\"dataframe\">\n",
              "  <thead>\n",
              "    <tr style=\"text-align: right;\">\n",
              "      <th></th>\n",
              "      <th>nr_crt</th>\n",
              "      <th>label</th>\n",
              "      <th>nr_clase</th>\n",
              "      <th>nr_errors</th>\n",
              "      <th>nr_inheritance</th>\n",
              "      <th>nr_virtual</th>\n",
              "      <th>nr_static</th>\n",
              "      <th>nr_global</th>\n",
              "      <th>nr_public</th>\n",
              "      <th>nr_private</th>\n",
              "      <th>nr_protected</th>\n",
              "      <th>nr_define</th>\n",
              "      <th>nr_template</th>\n",
              "      <th>nr_stl</th>\n",
              "      <th>nr_namespace</th>\n",
              "      <th>nr_enum</th>\n",
              "      <th>nr_struct</th>\n",
              "      <th>nr_cpp</th>\n",
              "      <th>nr_comments</th>\n",
              "      <th>nr_function</th>\n",
              "      <th>headers_size</th>\n",
              "      <th>sources_size</th>\n",
              "      <th>grade</th>\n",
              "    </tr>\n",
              "  </thead>\n",
              "  <tbody>\n",
              "    <tr>\n",
              "      <th>0</th>\n",
              "      <td>0</td>\n",
              "      <td>student_27</td>\n",
              "      <td>11</td>\n",
              "      <td>605</td>\n",
              "      <td>0</td>\n",
              "      <td>3</td>\n",
              "      <td>2</td>\n",
              "      <td>0</td>\n",
              "      <td>17</td>\n",
              "      <td>1</td>\n",
              "      <td>2</td>\n",
              "      <td>6</td>\n",
              "      <td>1</td>\n",
              "      <td>10</td>\n",
              "      <td>4</td>\n",
              "      <td>0</td>\n",
              "      <td>0</td>\n",
              "      <td>12</td>\n",
              "      <td>4</td>\n",
              "      <td>39</td>\n",
              "      <td>3002</td>\n",
              "      <td>13697</td>\n",
              "      <td>5.01</td>\n",
              "    </tr>\n",
              "    <tr>\n",
              "      <th>2</th>\n",
              "      <td>2</td>\n",
              "      <td>student_17</td>\n",
              "      <td>12</td>\n",
              "      <td>1466</td>\n",
              "      <td>9</td>\n",
              "      <td>5</td>\n",
              "      <td>5</td>\n",
              "      <td>0</td>\n",
              "      <td>26</td>\n",
              "      <td>2</td>\n",
              "      <td>0</td>\n",
              "      <td>2</td>\n",
              "      <td>1</td>\n",
              "      <td>6</td>\n",
              "      <td>6</td>\n",
              "      <td>0</td>\n",
              "      <td>0</td>\n",
              "      <td>12</td>\n",
              "      <td>6</td>\n",
              "      <td>28</td>\n",
              "      <td>4497</td>\n",
              "      <td>38762</td>\n",
              "      <td>5.70</td>\n",
              "    </tr>\n",
              "    <tr>\n",
              "      <th>3</th>\n",
              "      <td>3</td>\n",
              "      <td>student_43</td>\n",
              "      <td>19</td>\n",
              "      <td>1121</td>\n",
              "      <td>6</td>\n",
              "      <td>3</td>\n",
              "      <td>2</td>\n",
              "      <td>0</td>\n",
              "      <td>31</td>\n",
              "      <td>1</td>\n",
              "      <td>7</td>\n",
              "      <td>19</td>\n",
              "      <td>1</td>\n",
              "      <td>56</td>\n",
              "      <td>19</td>\n",
              "      <td>0</td>\n",
              "      <td>0</td>\n",
              "      <td>20</td>\n",
              "      <td>6</td>\n",
              "      <td>111</td>\n",
              "      <td>12825</td>\n",
              "      <td>31678</td>\n",
              "      <td>5.77</td>\n",
              "    </tr>\n",
              "    <tr>\n",
              "      <th>4</th>\n",
              "      <td>4</td>\n",
              "      <td>student_64</td>\n",
              "      <td>26</td>\n",
              "      <td>742</td>\n",
              "      <td>1</td>\n",
              "      <td>1</td>\n",
              "      <td>5</td>\n",
              "      <td>0</td>\n",
              "      <td>35</td>\n",
              "      <td>3</td>\n",
              "      <td>1</td>\n",
              "      <td>3</td>\n",
              "      <td>1</td>\n",
              "      <td>22</td>\n",
              "      <td>3</td>\n",
              "      <td>2</td>\n",
              "      <td>0</td>\n",
              "      <td>25</td>\n",
              "      <td>45</td>\n",
              "      <td>83</td>\n",
              "      <td>6931</td>\n",
              "      <td>19647</td>\n",
              "      <td>5.84</td>\n",
              "    </tr>\n",
              "    <tr>\n",
              "      <th>6</th>\n",
              "      <td>6</td>\n",
              "      <td>student_26</td>\n",
              "      <td>18</td>\n",
              "      <td>1357</td>\n",
              "      <td>1</td>\n",
              "      <td>8</td>\n",
              "      <td>4</td>\n",
              "      <td>0</td>\n",
              "      <td>30</td>\n",
              "      <td>1</td>\n",
              "      <td>0</td>\n",
              "      <td>2</td>\n",
              "      <td>1</td>\n",
              "      <td>9</td>\n",
              "      <td>6</td>\n",
              "      <td>0</td>\n",
              "      <td>0</td>\n",
              "      <td>19</td>\n",
              "      <td>3</td>\n",
              "      <td>76</td>\n",
              "      <td>4447</td>\n",
              "      <td>29532</td>\n",
              "      <td>6.92</td>\n",
              "    </tr>\n",
              "    <tr>\n",
              "      <th>...</th>\n",
              "      <td>...</td>\n",
              "      <td>...</td>\n",
              "      <td>...</td>\n",
              "      <td>...</td>\n",
              "      <td>...</td>\n",
              "      <td>...</td>\n",
              "      <td>...</td>\n",
              "      <td>...</td>\n",
              "      <td>...</td>\n",
              "      <td>...</td>\n",
              "      <td>...</td>\n",
              "      <td>...</td>\n",
              "      <td>...</td>\n",
              "      <td>...</td>\n",
              "      <td>...</td>\n",
              "      <td>...</td>\n",
              "      <td>...</td>\n",
              "      <td>...</td>\n",
              "      <td>...</td>\n",
              "      <td>...</td>\n",
              "      <td>...</td>\n",
              "      <td>...</td>\n",
              "      <td>...</td>\n",
              "    </tr>\n",
              "    <tr>\n",
              "      <th>77</th>\n",
              "      <td>78</td>\n",
              "      <td>d77ae437b650edc0f4219d1834263632</td>\n",
              "      <td>1</td>\n",
              "      <td>396</td>\n",
              "      <td>0</td>\n",
              "      <td>0</td>\n",
              "      <td>4</td>\n",
              "      <td>0</td>\n",
              "      <td>1</td>\n",
              "      <td>1</td>\n",
              "      <td>0</td>\n",
              "      <td>0</td>\n",
              "      <td>0</td>\n",
              "      <td>1</td>\n",
              "      <td>1</td>\n",
              "      <td>0</td>\n",
              "      <td>0</td>\n",
              "      <td>1</td>\n",
              "      <td>0</td>\n",
              "      <td>18</td>\n",
              "      <td>3644</td>\n",
              "      <td>21565</td>\n",
              "      <td>4.32</td>\n",
              "    </tr>\n",
              "    <tr>\n",
              "      <th>78</th>\n",
              "      <td>79</td>\n",
              "      <td>9511dedd1cbb3bdd30d99869c90e64a2</td>\n",
              "      <td>0</td>\n",
              "      <td>396</td>\n",
              "      <td>0</td>\n",
              "      <td>0</td>\n",
              "      <td>0</td>\n",
              "      <td>0</td>\n",
              "      <td>0</td>\n",
              "      <td>0</td>\n",
              "      <td>0</td>\n",
              "      <td>0</td>\n",
              "      <td>0</td>\n",
              "      <td>0</td>\n",
              "      <td>0</td>\n",
              "      <td>0</td>\n",
              "      <td>0</td>\n",
              "      <td>1</td>\n",
              "      <td>0</td>\n",
              "      <td>0</td>\n",
              "      <td>0</td>\n",
              "      <td>21565</td>\n",
              "      <td>3.97</td>\n",
              "    </tr>\n",
              "    <tr>\n",
              "      <th>79</th>\n",
              "      <td>80</td>\n",
              "      <td>2591adf8fc3d96b7775ab0d49d3a9de7</td>\n",
              "      <td>15</td>\n",
              "      <td>1726</td>\n",
              "      <td>1</td>\n",
              "      <td>0</td>\n",
              "      <td>2</td>\n",
              "      <td>0</td>\n",
              "      <td>24</td>\n",
              "      <td>18</td>\n",
              "      <td>0</td>\n",
              "      <td>41</td>\n",
              "      <td>1</td>\n",
              "      <td>19</td>\n",
              "      <td>12</td>\n",
              "      <td>10</td>\n",
              "      <td>0</td>\n",
              "      <td>15</td>\n",
              "      <td>102</td>\n",
              "      <td>116</td>\n",
              "      <td>22074</td>\n",
              "      <td>38966</td>\n",
              "      <td>6.95</td>\n",
              "    </tr>\n",
              "    <tr>\n",
              "      <th>80</th>\n",
              "      <td>81</td>\n",
              "      <td>0889c6e3cb0c6cda88f0186c3dfb7625</td>\n",
              "      <td>0</td>\n",
              "      <td>94</td>\n",
              "      <td>0</td>\n",
              "      <td>0</td>\n",
              "      <td>0</td>\n",
              "      <td>0</td>\n",
              "      <td>0</td>\n",
              "      <td>0</td>\n",
              "      <td>0</td>\n",
              "      <td>0</td>\n",
              "      <td>0</td>\n",
              "      <td>0</td>\n",
              "      <td>0</td>\n",
              "      <td>0</td>\n",
              "      <td>0</td>\n",
              "      <td>1</td>\n",
              "      <td>0</td>\n",
              "      <td>0</td>\n",
              "      <td>0</td>\n",
              "      <td>2123</td>\n",
              "      <td>5.00</td>\n",
              "    </tr>\n",
              "    <tr>\n",
              "      <th>81</th>\n",
              "      <td>82</td>\n",
              "      <td>db139abf06049e9f628021801e25d0f8</td>\n",
              "      <td>0</td>\n",
              "      <td>2980</td>\n",
              "      <td>0</td>\n",
              "      <td>0</td>\n",
              "      <td>0</td>\n",
              "      <td>0</td>\n",
              "      <td>0</td>\n",
              "      <td>0</td>\n",
              "      <td>0</td>\n",
              "      <td>0</td>\n",
              "      <td>0</td>\n",
              "      <td>0</td>\n",
              "      <td>0</td>\n",
              "      <td>0</td>\n",
              "      <td>0</td>\n",
              "      <td>1</td>\n",
              "      <td>0</td>\n",
              "      <td>0</td>\n",
              "      <td>0</td>\n",
              "      <td>147750</td>\n",
              "      <td>4.10</td>\n",
              "    </tr>\n",
              "  </tbody>\n",
              "</table>\n",
              "<p>70 rows × 23 columns</p>\n",
              "</div>\n",
              "      <button class=\"colab-df-convert\" onclick=\"convertToInteractive('df-075a0d77-52c2-4b81-b85d-425b27398695')\"\n",
              "              title=\"Convert this dataframe to an interactive table.\"\n",
              "              style=\"display:none;\">\n",
              "        \n",
              "  <svg xmlns=\"http://www.w3.org/2000/svg\" height=\"24px\"viewBox=\"0 0 24 24\"\n",
              "       width=\"24px\">\n",
              "    <path d=\"M0 0h24v24H0V0z\" fill=\"none\"/>\n",
              "    <path d=\"M18.56 5.44l.94 2.06.94-2.06 2.06-.94-2.06-.94-.94-2.06-.94 2.06-2.06.94zm-11 1L8.5 8.5l.94-2.06 2.06-.94-2.06-.94L8.5 2.5l-.94 2.06-2.06.94zm10 10l.94 2.06.94-2.06 2.06-.94-2.06-.94-.94-2.06-.94 2.06-2.06.94z\"/><path d=\"M17.41 7.96l-1.37-1.37c-.4-.4-.92-.59-1.43-.59-.52 0-1.04.2-1.43.59L10.3 9.45l-7.72 7.72c-.78.78-.78 2.05 0 2.83L4 21.41c.39.39.9.59 1.41.59.51 0 1.02-.2 1.41-.59l7.78-7.78 2.81-2.81c.8-.78.8-2.07 0-2.86zM5.41 20L4 18.59l7.72-7.72 1.47 1.35L5.41 20z\"/>\n",
              "  </svg>\n",
              "      </button>\n",
              "      \n",
              "  <style>\n",
              "    .colab-df-container {\n",
              "      display:flex;\n",
              "      flex-wrap:wrap;\n",
              "      gap: 12px;\n",
              "    }\n",
              "\n",
              "    .colab-df-convert {\n",
              "      background-color: #E8F0FE;\n",
              "      border: none;\n",
              "      border-radius: 50%;\n",
              "      cursor: pointer;\n",
              "      display: none;\n",
              "      fill: #1967D2;\n",
              "      height: 32px;\n",
              "      padding: 0 0 0 0;\n",
              "      width: 32px;\n",
              "    }\n",
              "\n",
              "    .colab-df-convert:hover {\n",
              "      background-color: #E2EBFA;\n",
              "      box-shadow: 0px 1px 2px rgba(60, 64, 67, 0.3), 0px 1px 3px 1px rgba(60, 64, 67, 0.15);\n",
              "      fill: #174EA6;\n",
              "    }\n",
              "\n",
              "    [theme=dark] .colab-df-convert {\n",
              "      background-color: #3B4455;\n",
              "      fill: #D2E3FC;\n",
              "    }\n",
              "\n",
              "    [theme=dark] .colab-df-convert:hover {\n",
              "      background-color: #434B5C;\n",
              "      box-shadow: 0px 1px 3px 1px rgba(0, 0, 0, 0.15);\n",
              "      filter: drop-shadow(0px 1px 2px rgba(0, 0, 0, 0.3));\n",
              "      fill: #FFFFFF;\n",
              "    }\n",
              "  </style>\n",
              "\n",
              "      <script>\n",
              "        const buttonEl =\n",
              "          document.querySelector('#df-075a0d77-52c2-4b81-b85d-425b27398695 button.colab-df-convert');\n",
              "        buttonEl.style.display =\n",
              "          google.colab.kernel.accessAllowed ? 'block' : 'none';\n",
              "\n",
              "        async function convertToInteractive(key) {\n",
              "          const element = document.querySelector('#df-075a0d77-52c2-4b81-b85d-425b27398695');\n",
              "          const dataTable =\n",
              "            await google.colab.kernel.invokeFunction('convertToInteractive',\n",
              "                                                     [key], {});\n",
              "          if (!dataTable) return;\n",
              "\n",
              "          const docLinkHtml = 'Like what you see? Visit the ' +\n",
              "            '<a target=\"_blank\" href=https://colab.research.google.com/notebooks/data_table.ipynb>data table notebook</a>'\n",
              "            + ' to learn more about interactive tables.';\n",
              "          element.innerHTML = '';\n",
              "          dataTable['output_type'] = 'display_data';\n",
              "          await google.colab.output.renderOutput(dataTable, element);\n",
              "          const docLink = document.createElement('div');\n",
              "          docLink.innerHTML = docLinkHtml;\n",
              "          element.appendChild(docLink);\n",
              "        }\n",
              "      </script>\n",
              "    </div>\n",
              "  </div>\n",
              "  "
            ],
            "text/plain": [
              "    nr_crt                             label  ...  sources_size  grade\n",
              "0        0                        student_27  ...         13697   5.01\n",
              "2        2                        student_17  ...         38762   5.70\n",
              "3        3                        student_43  ...         31678   5.77\n",
              "4        4                        student_64  ...         19647   5.84\n",
              "6        6                        student_26  ...         29532   6.92\n",
              "..     ...                               ...  ...           ...    ...\n",
              "77      78  d77ae437b650edc0f4219d1834263632  ...         21565   4.32\n",
              "78      79  9511dedd1cbb3bdd30d99869c90e64a2  ...         21565   3.97\n",
              "79      80  2591adf8fc3d96b7775ab0d49d3a9de7  ...         38966   6.95\n",
              "80      81  0889c6e3cb0c6cda88f0186c3dfb7625  ...          2123   5.00\n",
              "81      82  db139abf06049e9f628021801e25d0f8  ...        147750   4.10\n",
              "\n",
              "[70 rows x 23 columns]"
            ]
          },
          "metadata": {},
          "execution_count": 198
        }
      ]
    },
    {
      "cell_type": "markdown",
      "metadata": {
        "id": "Bi8QGG5QD1-k"
      },
      "source": [
        "Mai jos putem vizualiza modul in care variază nota in functie de numarul de erori."
      ]
    },
    {
      "cell_type": "code",
      "metadata": {
        "colab": {
          "base_uri": "https://localhost:8080/",
          "height": 533
        },
        "id": "UBi4LA5WB5RV",
        "outputId": "8381ff5f-dd51-499d-9201-aec6b278c708"
      },
      "source": [
        "x = dataframe[1:5000]['nr_errors']\n",
        "y = dataframe[1:5000]['grade']\n",
        "plt.figure(figsize=(8,6), dpi=100)\n",
        "plt.plot(x, y, 'o')\n",
        "plt.ylabel(\"Nota\")\n",
        "plt.xlabel(\"Nr Erori\")\n",
        "plt.show()"
      ],
      "execution_count": 199,
      "outputs": [
        {
          "output_type": "display_data",
          "data": {
            "image/png": "[encoded data removed]",
            "text/plain": [
              "<Figure size 800x600 with 1 Axes>"
            ]
          },
          "metadata": {
            "needs_background": "light"
          }
        }
      ]
    },
    {
      "cell_type": "markdown",
      "metadata": {
        "id": "MFF8cmGzNAms"
      },
      "source": [
        "### Data Split\n",
        "Impartim datele in date de train si date de test cu ajutorul unei metode in SciKitLearn."
      ]
    },
    {
      "cell_type": "code",
      "metadata": {
        "colab": {
          "base_uri": "https://localhost:8080/"
        },
        "id": "tWNYv_OAEEmc",
        "outputId": "d118f784-25dc-4fc5-b53a-5bb67456d664"
      },
      "source": [
        "train_frame, test_frame = train_test_split(dataframe, test_size=0.2)\n",
        "\n",
        "print('Total: {} \\nTrain: {} \\nTest: {}'.format(len(dataframe), len(train_frame), len(test_frame)))"
      ],
      "execution_count": 200,
      "outputs": [
        {
          "output_type": "stream",
          "name": "stdout",
          "text": [
            "Total: 70 \n",
            "Train: 56 \n",
            "Test: 14\n"
          ]
        }
      ]
    },
    {
      "cell_type": "markdown",
      "metadata": {
        "id": "4yGVwr07L6up"
      },
      "source": [
        "### HomeworkDataset\n",
        "Definim o clasa HomeworkDataset care extinde torch.utils.data.Dataset și care implementeaza metodele necesare pentru compatibilitatea cu DataLoader-ul din PyTorch"
      ]
    },
    {
      "cell_type": "code",
      "metadata": {
        "id": "hlHS1k_IL1Nl"
      },
      "source": [
        "class HomeworkDataset(torch.utils.data.Dataset):\n",
        "    def __init__(self, dataframe):\n",
        "        self._df = dataframe\n",
        "\n",
        "    def __len__(self): \n",
        "        return len(self._df)\n",
        "\n",
        "    def __getitem__(self, idx): #[]\n",
        "        item = self._df.iloc[idx] \n",
        "        features=[]\n",
        "        for i in self._df.columns[2:-1]:\n",
        "          features.append(item[i])\n",
        "        return {'features': torch.tensor(features, dtype=torch.float32),\n",
        "                'labels' : torch.tensor([item['grade']], dtype=torch.float32)}"
      ],
      "execution_count": 201,
      "outputs": []
    },
    {
      "cell_type": "code",
      "metadata": {
        "colab": {
          "base_uri": "https://localhost:8080/"
        },
        "id": "h8dQm470MYZg",
        "outputId": "392ca7f1-b3d6-4899-d6e0-c9817716a47b"
      },
      "source": [
        "# Utilizam clasa wrapper Homework Dataset\n",
        "train_set = HomeworkDataset(train_frame)\n",
        "test_set = HomeworkDataset(test_frame)\n",
        "\n",
        "# Printam al 5lea sample\n",
        "train_set[5]"
      ],
      "execution_count": 202,
      "outputs": [
        {
          "output_type": "execute_result",
          "data": {
            "text/plain": [
              "{'features': tensor([1.5000e+01, 1.7260e+03, 1.0000e+00, 0.0000e+00, 2.0000e+00, 0.0000e+00,\n",
              "         2.4000e+01, 1.8000e+01, 0.0000e+00, 4.1000e+01, 1.0000e+00, 1.9000e+01,\n",
              "         1.2000e+01, 1.0000e+01, 0.0000e+00, 1.5000e+01, 1.0200e+02, 1.1600e+02,\n",
              "         2.2074e+04, 3.8966e+04]), 'labels': tensor([6.9500])}"
            ]
          },
          "metadata": {},
          "execution_count": 202
        }
      ]
    },
    {
      "cell_type": "markdown",
      "metadata": {
        "id": "TzhjMSCTOVTC"
      },
      "source": [
        "## Model\n",
        "Implementam modelul IA (trebuie sa derivam din torch.nn.Module si sa implementam metodele __init__ si __forward__)"
      ]
    },
    {
      "cell_type": "code",
      "metadata": {
        "id": "Ki1hYgTSFTuk"
      },
      "source": [
        "class RegressionModel(nn.Module):\n",
        "    def __init__(self, in_feat=1, out_feat=1):\n",
        "        super().__init__()\n",
        "        self.fc = nn.Linear(in_feat, out_feat) # Definesc o retea neuronala cu un singur strat Fully Connected\n",
        "\n",
        "    def forward(self, x):\n",
        "        out = self.fc(x)\n",
        "        return out\n",
        "\n",
        "model = RegressionModel(20,1) # generez o instanță a modelului"
      ],
      "execution_count": 203,
      "outputs": []
    },
    {
      "cell_type": "markdown",
      "metadata": {
        "id": "bt2WoD9iQOJx"
      },
      "source": [
        "## Train"
      ]
    },
    {
      "cell_type": "markdown",
      "metadata": {
        "id": "pXsQ15i3RV0d"
      },
      "source": [
        "### Hiperparametrii"
      ]
    },
    {
      "cell_type": "code",
      "metadata": {
        "id": "NyeGyl-iRVGr"
      },
      "source": [
        "LEARNING_RATE = 1e-10 # Rata de invatare\n",
        "NR_EPOCHS = 10 # Numarul de epoci\n",
        "BATCH_SIZE = 32 # Numarul de samples dintr-un batch"
      ],
      "execution_count": 204,
      "outputs": []
    },
    {
      "cell_type": "markdown",
      "metadata": {
        "id": "Ukhsdbw5PAQG"
      },
      "source": [
        "### Funcția cost (loss)\n",
        "Vom utiliza Mean Squared Error (torch.nn.MSELoss) "
      ]
    },
    {
      "cell_type": "code",
      "metadata": {
        "id": "JZ-bwo7QO9ia"
      },
      "source": [
        "criterion = nn.MSELoss() #atentie: turi utilizeaza Root MSE"
      ],
      "execution_count": 205,
      "outputs": []
    },
    {
      "cell_type": "markdown",
      "metadata": {
        "id": "CBFNtd6zPNpV"
      },
      "source": [
        "### Algoritmul de optimizare\n",
        "Vom utiliza Stochastic Gradient Descent (torch.optim.SGD)"
      ]
    },
    {
      "cell_type": "code",
      "metadata": {
        "id": "cnmIQklkPIyN"
      },
      "source": [
        "optimizer = optim.SGD(model.parameters(), lr=LEARNING_RATE)"
      ],
      "execution_count": 206,
      "outputs": []
    },
    {
      "cell_type": "markdown",
      "metadata": {
        "id": "5PA2LMQ9QTbr"
      },
      "source": [
        "### Training Loop"
      ]
    },
    {
      "cell_type": "code",
      "metadata": {
        "colab": {
          "base_uri": "https://localhost:8080/"
        },
        "id": "YZjBEyv3HwzW",
        "outputId": "a8fc5d18-4d49-4583-a871-e19483e1c8fd"
      },
      "source": [
        "# Pregatim o modalitate de loggare a informatiilor din timpul antrenarii\n",
        "log_info = []\n",
        "\n",
        "# Pregatim DataLoader-ul pentru antrenare\n",
        "train_loader = torch.utils.data.DataLoader(train_set, batch_size=BATCH_SIZE, shuffle=True)\n",
        "\n",
        "# Trecem modelul in modul train\n",
        "model.train() \n",
        "\n",
        "\n",
        "\n",
        "########### Training Loop #############\n",
        "\n",
        "# pentru fiecare epoca (1 epoca = o iteratie peste intregul set de date)\n",
        "for epoch in range(NR_EPOCHS):\n",
        "    print('Running epoch {}'.format(epoch))\n",
        "\n",
        "    epoch_losses = []\n",
        "    \n",
        "    # pentru fiecare batch de BATCH_SIZE exemple din setul de date    \n",
        "    for i, batch in enumerate(train_loader):\n",
        "\n",
        "        inputs, labels = batch['features'], batch['labels']\n",
        "        \n",
        "        # anulam gradientii deja acumulati la nivelul retelei neuronale\n",
        "        optimizer.zero_grad()\n",
        "\n",
        "        # FORWARD PASS: trecem inputurile prin retea\n",
        "        outputs = model(inputs)\n",
        "\n",
        "        # Calculam LOSSul dintre etichetele prezise si cele reale\n",
        "        loss = criterion(outputs, labels)\n",
        "\n",
        "        # BACKPRPAGATION: calculam gradientii propagand LOSSul in retea\n",
        "        loss.backward()\n",
        "\n",
        "        # Utilizam optimizorul pentru a modifica parametrii retelei in functie de gradientii acumulati\n",
        "        optimizer.step()\n",
        "\n",
        "        # Salvam informatii despre antrenare (in cazul nostru, salvam valoarea LOSS)\n",
        "        epoch_losses.append(loss.item()) \n",
        "    log_info.append((epoch, np.mean(epoch_losses)))"
      ],
      "execution_count": 207,
      "outputs": [
        {
          "output_type": "stream",
          "name": "stdout",
          "text": [
            "Running epoch 0\n",
            "Running epoch 1\n",
            "Running epoch 2\n",
            "Running epoch 3\n",
            "Running epoch 4\n",
            "Running epoch 5\n",
            "Running epoch 6\n",
            "Running epoch 7\n",
            "Running epoch 8\n",
            "Running epoch 9\n"
          ]
        }
      ]
    },
    {
      "cell_type": "markdown",
      "metadata": {
        "id": "LytON8FvWhyY"
      },
      "source": [
        "Realizam graficul modificarii LOSSului pe parcursul antrenării\n",
        "\n"
      ]
    },
    {
      "cell_type": "code",
      "metadata": {
        "colab": {
          "base_uri": "https://localhost:8080/",
          "height": 308
        },
        "id": "zdcdjMLeVeH8",
        "outputId": "ce99d095-44fd-47e2-9954-fa2f978bce14"
      },
      "source": [
        "X = [x for x, loss in log_info]\n",
        "Y = [loss for x, loss in log_info]\n",
        "plt.plot(X,Y)\n",
        "plt.xlabel(\"Epoch\")\n",
        "plt.ylabel(\"LOSS\")"
      ],
      "execution_count": 208,
      "outputs": [
        {
          "output_type": "execute_result",
          "data": {
            "text/plain": [
              "Text(0, 0.5, 'LOSS')"
            ]
          },
          "metadata": {},
          "execution_count": 208
        },
        {
          "output_type": "display_data",
          "data": {
            "image/png": "[encoded data removed]",
            "text/plain": [
              "<Figure size 432x288 with 1 Axes>"
            ]
          },
          "metadata": {
            "needs_background": "light"
          }
        }
      ]
    },
    {
      "cell_type": "markdown",
      "metadata": {
        "id": "kK1vMXK8ZldZ"
      },
      "source": [
        ""
      ]
    },
    {
      "cell_type": "code",
      "metadata": {
        "id": "alNWzlM-WAFj",
        "colab": {
          "base_uri": "https://localhost:8080/"
        },
        "outputId": "dda67bc9-c953-4f3f-c880-785b7a005425"
      },
      "source": [
        "print(model.fc.weight, model.fc.bias)"
      ],
      "execution_count": 209,
      "outputs": [
        {
          "output_type": "stream",
          "name": "stdout",
          "text": [
            "Parameter containing:\n",
            "tensor([[-0.0463,  0.0242,  0.0917, -0.0075,  0.0733,  0.1714,  0.2018,  0.1229,\n",
            "          0.1000,  0.0061,  0.1564,  0.1656, -0.2073, -0.1392, -0.0677,  0.0100,\n",
            "          0.1611, -0.1712, -0.0476,  0.0133]], requires_grad=True) Parameter containing:\n",
            "tensor([0.0324], requires_grad=True)\n"
          ]
        }
      ]
    },
    {
      "cell_type": "markdown",
      "source": [
        "###Salvare model \n"
      ],
      "metadata": {
        "id": "kh3al1BIvNpJ"
      }
    },
    {
      "cell_type": "code",
      "source": [
        "torch.save(model.state_dict(),\"model.pt\")"
      ],
      "metadata": {
        "id": "zyuF2oG0vSDb"
      },
      "execution_count": 212,
      "outputs": []
    }
  ]
}